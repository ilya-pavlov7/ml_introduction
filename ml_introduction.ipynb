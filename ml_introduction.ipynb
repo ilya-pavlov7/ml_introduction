{
  "cells": [
    {
      "cell_type": "markdown",
      "metadata": {
        "id": "nUbI3R3bYB4h"
      },
      "source": [
        "## Рекомендация тарифов"
      ]
    },
    {
      "cell_type": "markdown",
      "metadata": {
        "id": "6PokEcpcYB4i"
      },
      "source": [
        "В нашем распоряжении данные о поведении клиентов, которые перешли на новые тарифы тарифы. Нужно построить модель для задачи классификации, которая выберет подходящий тариф. Считаем, что предобработка данных уже проведена\n",
        "\n",
        "Задача:  \n",
        "Постройте модель с максимально большим значением *accuracy*. Нужно довести долю правильных ответов по крайней мере до 0.75"
      ]
    },
    {
      "cell_type": "markdown",
      "metadata": {
        "id": "gDsbnhLNYB4k"
      },
      "source": [
        "## Изучение данных"
      ]
    },
    {
      "cell_type": "code",
      "execution_count": 1,
      "metadata": {
        "id": "2jVr8gx5YB4l"
      },
      "outputs": [],
      "source": [
        "import pandas as pd\n",
        "import numpy as np\n",
        "import math\n",
        "import matplotlib\n",
        "import matplotlib.pyplot as plt\n",
        "import plotly.offline as pyo\n",
        "import plotly.io as pio\n",
        "import plotly.graph_objs as go\n",
        "from sklearn.ensemble import RandomForestClassifier\n",
        "from sklearn.model_selection import train_test_split\n",
        "from sklearn.metrics import mean_squared_error\n",
        "from sklearn.tree import DecisionTreeClassifier\n",
        "from sklearn.metrics import accuracy_score\n",
        "from sklearn.linear_model import LogisticRegression\n",
        "from sklearn.dummy import DummyClassifier\n",
        "from tqdm import tqdm\n",
        "from time import sleep"
      ]
    },
    {
      "cell_type": "code",
      "execution_count": 2,
      "metadata": {
        "id": "0eQDqn7kYB4o"
      },
      "outputs": [],
      "source": [
        "df = pd.read_csv('users_behavior.csv')"
      ]
    },
    {
      "cell_type": "code",
      "execution_count": 3,
      "metadata": {
        "colab": {
          "base_uri": "https://localhost:8080/",
          "height": 206
        },
        "id": "pxroXY09YB4p",
        "outputId": "d918dc62-a718-469c-ed0a-9f4e6b5ff126",
        "scrolled": true
      },
      "outputs": [
        {
          "output_type": "execute_result",
          "data": {
            "text/plain": [
              "   calls  minutes  messages   mb_used  is_ultra\n",
              "0   40.0   311.90      83.0  19915.42         0\n",
              "1   85.0   516.75      56.0  22696.96         0\n",
              "2   77.0   467.66      86.0  21060.45         0\n",
              "3  106.0   745.53      81.0   8437.39         1\n",
              "4   66.0   418.74       1.0  14502.75         0"
            ],
            "text/html": [
              "\n",
              "  <div id=\"df-3f98c9b2-dfcb-4f25-aa53-2c5ef0d9d5cc\">\n",
              "    <div class=\"colab-df-container\">\n",
              "      <div>\n",
              "<style scoped>\n",
              "    .dataframe tbody tr th:only-of-type {\n",
              "        vertical-align: middle;\n",
              "    }\n",
              "\n",
              "    .dataframe tbody tr th {\n",
              "        vertical-align: top;\n",
              "    }\n",
              "\n",
              "    .dataframe thead th {\n",
              "        text-align: right;\n",
              "    }\n",
              "</style>\n",
              "<table border=\"1\" class=\"dataframe\">\n",
              "  <thead>\n",
              "    <tr style=\"text-align: right;\">\n",
              "      <th></th>\n",
              "      <th>calls</th>\n",
              "      <th>minutes</th>\n",
              "      <th>messages</th>\n",
              "      <th>mb_used</th>\n",
              "      <th>is_ultra</th>\n",
              "    </tr>\n",
              "  </thead>\n",
              "  <tbody>\n",
              "    <tr>\n",
              "      <th>0</th>\n",
              "      <td>40.0</td>\n",
              "      <td>311.90</td>\n",
              "      <td>83.0</td>\n",
              "      <td>19915.42</td>\n",
              "      <td>0</td>\n",
              "    </tr>\n",
              "    <tr>\n",
              "      <th>1</th>\n",
              "      <td>85.0</td>\n",
              "      <td>516.75</td>\n",
              "      <td>56.0</td>\n",
              "      <td>22696.96</td>\n",
              "      <td>0</td>\n",
              "    </tr>\n",
              "    <tr>\n",
              "      <th>2</th>\n",
              "      <td>77.0</td>\n",
              "      <td>467.66</td>\n",
              "      <td>86.0</td>\n",
              "      <td>21060.45</td>\n",
              "      <td>0</td>\n",
              "    </tr>\n",
              "    <tr>\n",
              "      <th>3</th>\n",
              "      <td>106.0</td>\n",
              "      <td>745.53</td>\n",
              "      <td>81.0</td>\n",
              "      <td>8437.39</td>\n",
              "      <td>1</td>\n",
              "    </tr>\n",
              "    <tr>\n",
              "      <th>4</th>\n",
              "      <td>66.0</td>\n",
              "      <td>418.74</td>\n",
              "      <td>1.0</td>\n",
              "      <td>14502.75</td>\n",
              "      <td>0</td>\n",
              "    </tr>\n",
              "  </tbody>\n",
              "</table>\n",
              "</div>\n",
              "      <button class=\"colab-df-convert\" onclick=\"convertToInteractive('df-3f98c9b2-dfcb-4f25-aa53-2c5ef0d9d5cc')\"\n",
              "              title=\"Convert this dataframe to an interactive table.\"\n",
              "              style=\"display:none;\">\n",
              "        \n",
              "  <svg xmlns=\"http://www.w3.org/2000/svg\" height=\"24px\"viewBox=\"0 0 24 24\"\n",
              "       width=\"24px\">\n",
              "    <path d=\"M0 0h24v24H0V0z\" fill=\"none\"/>\n",
              "    <path d=\"M18.56 5.44l.94 2.06.94-2.06 2.06-.94-2.06-.94-.94-2.06-.94 2.06-2.06.94zm-11 1L8.5 8.5l.94-2.06 2.06-.94-2.06-.94L8.5 2.5l-.94 2.06-2.06.94zm10 10l.94 2.06.94-2.06 2.06-.94-2.06-.94-.94-2.06-.94 2.06-2.06.94z\"/><path d=\"M17.41 7.96l-1.37-1.37c-.4-.4-.92-.59-1.43-.59-.52 0-1.04.2-1.43.59L10.3 9.45l-7.72 7.72c-.78.78-.78 2.05 0 2.83L4 21.41c.39.39.9.59 1.41.59.51 0 1.02-.2 1.41-.59l7.78-7.78 2.81-2.81c.8-.78.8-2.07 0-2.86zM5.41 20L4 18.59l7.72-7.72 1.47 1.35L5.41 20z\"/>\n",
              "  </svg>\n",
              "      </button>\n",
              "      \n",
              "  <style>\n",
              "    .colab-df-container {\n",
              "      display:flex;\n",
              "      flex-wrap:wrap;\n",
              "      gap: 12px;\n",
              "    }\n",
              "\n",
              "    .colab-df-convert {\n",
              "      background-color: #E8F0FE;\n",
              "      border: none;\n",
              "      border-radius: 50%;\n",
              "      cursor: pointer;\n",
              "      display: none;\n",
              "      fill: #1967D2;\n",
              "      height: 32px;\n",
              "      padding: 0 0 0 0;\n",
              "      width: 32px;\n",
              "    }\n",
              "\n",
              "    .colab-df-convert:hover {\n",
              "      background-color: #E2EBFA;\n",
              "      box-shadow: 0px 1px 2px rgba(60, 64, 67, 0.3), 0px 1px 3px 1px rgba(60, 64, 67, 0.15);\n",
              "      fill: #174EA6;\n",
              "    }\n",
              "\n",
              "    [theme=dark] .colab-df-convert {\n",
              "      background-color: #3B4455;\n",
              "      fill: #D2E3FC;\n",
              "    }\n",
              "\n",
              "    [theme=dark] .colab-df-convert:hover {\n",
              "      background-color: #434B5C;\n",
              "      box-shadow: 0px 1px 3px 1px rgba(0, 0, 0, 0.15);\n",
              "      filter: drop-shadow(0px 1px 2px rgba(0, 0, 0, 0.3));\n",
              "      fill: #FFFFFF;\n",
              "    }\n",
              "  </style>\n",
              "\n",
              "      <script>\n",
              "        const buttonEl =\n",
              "          document.querySelector('#df-3f98c9b2-dfcb-4f25-aa53-2c5ef0d9d5cc button.colab-df-convert');\n",
              "        buttonEl.style.display =\n",
              "          google.colab.kernel.accessAllowed ? 'block' : 'none';\n",
              "\n",
              "        async function convertToInteractive(key) {\n",
              "          const element = document.querySelector('#df-3f98c9b2-dfcb-4f25-aa53-2c5ef0d9d5cc');\n",
              "          const dataTable =\n",
              "            await google.colab.kernel.invokeFunction('convertToInteractive',\n",
              "                                                     [key], {});\n",
              "          if (!dataTable) return;\n",
              "\n",
              "          const docLinkHtml = 'Like what you see? Visit the ' +\n",
              "            '<a target=\"_blank\" href=https://colab.research.google.com/notebooks/data_table.ipynb>data table notebook</a>'\n",
              "            + ' to learn more about interactive tables.';\n",
              "          element.innerHTML = '';\n",
              "          dataTable['output_type'] = 'display_data';\n",
              "          await google.colab.output.renderOutput(dataTable, element);\n",
              "          const docLink = document.createElement('div');\n",
              "          docLink.innerHTML = docLinkHtml;\n",
              "          element.appendChild(docLink);\n",
              "        }\n",
              "      </script>\n",
              "    </div>\n",
              "  </div>\n",
              "  "
            ]
          },
          "metadata": {},
          "execution_count": 3
        }
      ],
      "source": [
        "df.head()"
      ]
    },
    {
      "cell_type": "code",
      "execution_count": 4,
      "metadata": {
        "colab": {
          "base_uri": "https://localhost:8080/"
        },
        "id": "_EgeHQkIYB4r",
        "outputId": "88e8c8aa-1271-4776-809b-4746833b57dd",
        "scrolled": true
      },
      "outputs": [
        {
          "output_type": "stream",
          "name": "stdout",
          "text": [
            "<class 'pandas.core.frame.DataFrame'>\n",
            "RangeIndex: 3214 entries, 0 to 3213\n",
            "Data columns (total 5 columns):\n",
            " #   Column    Non-Null Count  Dtype  \n",
            "---  ------    --------------  -----  \n",
            " 0   calls     3214 non-null   float64\n",
            " 1   minutes   3214 non-null   float64\n",
            " 2   messages  3214 non-null   float64\n",
            " 3   mb_used   3214 non-null   float64\n",
            " 4   is_ultra  3214 non-null   int64  \n",
            "dtypes: float64(4), int64(1)\n",
            "memory usage: 125.7 KB\n"
          ]
        }
      ],
      "source": [
        "df.info()"
      ]
    },
    {
      "cell_type": "markdown",
      "metadata": {
        "id": "VxUr6ylGYB4t"
      },
      "source": [
        "## Разбиение данные на выборки"
      ]
    },
    {
      "cell_type": "markdown",
      "metadata": {
        "id": "nCkr1G2fYB4t"
      },
      "source": [
        "**features - признаки  \n",
        "target - целевой признак**"
      ]
    },
    {
      "cell_type": "code",
      "execution_count": 5,
      "metadata": {
        "id": "YSHVOmSKYB4u"
      },
      "outputs": [],
      "source": [
        "features = df.drop(['is_ultra'], axis = 1)\n",
        "target = df['is_ultra']"
      ]
    },
    {
      "cell_type": "code",
      "execution_count": 6,
      "metadata": {
        "colab": {
          "base_uri": "https://localhost:8080/"
        },
        "id": "D6csuK4GYB4u",
        "outputId": "05d4994e-7d76-4b7e-b837-60cd691567ea"
      },
      "outputs": [
        {
          "output_type": "stream",
          "name": "stdout",
          "text": [
            "30 %\n"
          ]
        }
      ],
      "source": [
        "print(math.floor(target.loc[target == 1].count() / 3214 * 100), '%')"
      ]
    },
    {
      "cell_type": "markdown",
      "metadata": {
        "id": "yBcNA7_hYB4v"
      },
      "source": [
        "**30% данных в таргете - единицы  \n",
        "70% - нули**"
      ]
    },
    {
      "cell_type": "markdown",
      "metadata": {
        "id": "g4UaMae4YB4v"
      },
      "source": [
        "**Так как нужно поделить df на три части: тестовую, валидационную и обучающую, применим метод train_test_split два раза и поделим в соотношении 1:1:3 (тестовую выборку нам не предоставили)**"
      ]
    },
    {
      "cell_type": "code",
      "execution_count": 7,
      "metadata": {
        "id": "wfaKXrKMYB4w"
      },
      "outputs": [],
      "source": [
        "features_1, features_valid, target_1, target_valid = train_test_split(\n",
        "    features, target, test_size = 0.20, random_state=12345, stratify = target)"
      ]
    },
    {
      "cell_type": "code",
      "execution_count": 8,
      "metadata": {
        "id": "FN6AOdwNYB4x"
      },
      "outputs": [],
      "source": [
        "features_train, features_test, target_train, target_test = train_test_split(\n",
        "    features_1, target_1, test_size = 0.25, random_state=12345, stratify = target_1)"
      ]
    },
    {
      "cell_type": "code",
      "execution_count": 9,
      "metadata": {
        "colab": {
          "base_uri": "https://localhost:8080/",
          "height": 121
        },
        "id": "sXJKeGc4YB4x",
        "outputId": "72899b89-d638-4690-cd66-dbb6f08b4b1f",
        "scrolled": false
      },
      "outputs": [
        {
          "output_type": "display_data",
          "data": {
            "text/plain": [
              "(1928, 4)"
            ]
          },
          "metadata": {}
        },
        {
          "output_type": "display_data",
          "data": {
            "text/plain": [
              "(643, 4)"
            ]
          },
          "metadata": {}
        },
        {
          "output_type": "display_data",
          "data": {
            "text/plain": [
              "(643, 4)"
            ]
          },
          "metadata": {}
        },
        {
          "output_type": "display_data",
          "data": {
            "text/plain": [
              "(1928,)"
            ]
          },
          "metadata": {}
        },
        {
          "output_type": "display_data",
          "data": {
            "text/plain": [
              "(643,)"
            ]
          },
          "metadata": {}
        },
        {
          "output_type": "display_data",
          "data": {
            "text/plain": [
              "(643,)"
            ]
          },
          "metadata": {}
        }
      ],
      "source": [
        "# Проверим размеры\n",
        "display(features_train.shape)\n",
        "display(features_test.shape)\n",
        "display(features_valid.shape)\n",
        "\n",
        "display(target_train.shape)\n",
        "display(target_test.shape)\n",
        "display(target_valid.shape)"
      ]
    },
    {
      "cell_type": "markdown",
      "metadata": {
        "id": "gRdVMH31YB4y"
      },
      "source": [
        "## Исследование моделей"
      ]
    },
    {
      "cell_type": "markdown",
      "metadata": {
        "id": "Vvi566KAYB4z"
      },
      "source": [
        "### Decision Tree"
      ]
    },
    {
      "cell_type": "markdown",
      "metadata": {
        "id": "_Hbt_eQwYB4z"
      },
      "source": [
        "**В цикле пройдемся по значениям возможной глубины дерева, чтобы оценить, какая высота дерева позволит получить лучшее значение accuracy на валидационной выборке**"
      ]
    },
    {
      "cell_type": "code",
      "execution_count": 10,
      "metadata": {
        "colab": {
          "base_uri": "https://localhost:8080/"
        },
        "id": "cjRgj2FnYB40",
        "outputId": "1e8bd028-193d-4020-ea7f-da99dc4626b0",
        "scrolled": false
      },
      "outputs": [
        {
          "output_type": "stream",
          "name": "stderr",
          "text": [
            "models: 100%|██████████| 17/17 [00:00<00:00, 92.33 models/s] "
          ]
        },
        {
          "output_type": "stream",
          "name": "stdout",
          "text": [
            "\n",
            "\n",
            "Глубина лучшей модели: 3\n",
            "Accuracy лучшей модели: 0.7993779160186625\n"
          ]
        },
        {
          "output_type": "stream",
          "name": "stderr",
          "text": [
            "\n"
          ]
        }
      ],
      "source": [
        "tree_model = None\n",
        "best_result = 0\n",
        "res_valid_tree = []\n",
        "res_train_tree = []\n",
        "\n",
        "for depth in tqdm(range(1, 18), desc = 'models', unit = ' models'): \n",
        "    model = DecisionTreeClassifier(random_state = 12345, max_depth = depth) \n",
        "    \n",
        "    # Обучение модели на обучающей выборке\n",
        "    model.fit(features_train, target_train)\n",
        "    \n",
        "    # Предсказание модели на валидационной выборке\n",
        "    predictions_valid = model.predict(features_valid)\n",
        "    \n",
        "    # Расчет accuracy валидационной выборки \n",
        "    result_valid = accuracy_score(target_valid, predictions_valid) \n",
        "    res_valid_tree.append(result_valid)\n",
        "    \n",
        "    # Предсказание модели на тренировочной выборке\n",
        "    predictions_train = model.predict(features_train)\n",
        "    \n",
        "    # Расчет accuracy тренировочной выборки \n",
        "    result_train = accuracy_score(target_train, predictions_train) \n",
        "    res_train_tree.append(result_train)\n",
        "    \n",
        "    \n",
        "    #print(\"max_depth =\", depth, \": \", end='')\n",
        "    #print(result_valid)\n",
        "    \n",
        "    # Выбор лучшей модели\n",
        "    if result_valid > best_result:\n",
        "        tree_model = model\n",
        "        best_result = result_valid\n",
        "        best_depth = depth\n",
        "    \n",
        "print('\\n')        \n",
        "print('Глубина лучшей модели:', best_depth)\n",
        "print('Accuracy лучшей модели:', best_result)"
      ]
    },
    {
      "cell_type": "markdown",
      "source": [
        "Визуализируем значение accuracy в зависимости от глубины дерева"
      ],
      "metadata": {
        "id": "0tHaSZBqmrrL"
      }
    },
    {
      "cell_type": "code",
      "execution_count": 11,
      "metadata": {
        "colab": {
          "base_uri": "https://localhost:8080/",
          "height": 295
        },
        "id": "ti7cFg4pirs9",
        "outputId": "43094d00-178f-49fc-abc5-4be09fbe858f"
      },
      "outputs": [
        {
          "output_type": "display_data",
          "data": {
            "text/plain": [
              "<Figure size 1080x288 with 2 Axes>"
            ],
            "image/png": "[encoded data removed]"
          },
          "metadata": {
            "needs_background": "light"
          }
        }
      ],
      "source": [
        "x = [x for x in range(1,18)]               \n",
        "y = res_valid_tree\n",
        "y2 = res_train_tree\n",
        "\n",
        "fig, ax1 = plt.subplots(figsize=(15, 4))\n",
        "ax2 = ax1.twinx()\n",
        "\n",
        "ax1.plot(x, y, 'r')\n",
        "ax1.grid(True)\n",
        "ax1.set_xlabel('Глубина')\n",
        "ax1.set_ylabel('Accuracy')\n",
        "\n",
        "ax2.plot(x,y2, 'b')\n",
        "ax2.set_title('Зависимость accuracy(depth)');"
      ]
    },
    {
      "cell_type": "markdown",
      "metadata": {
        "id": "KkiLJoVSYB41"
      },
      "source": [
        "**Accuracy тренировочной выборки постоянно растет и с увеличением глубины будет стремиться к единице, но это не гарантирует высоких значений accuracy для валидационной и тестовой выборок. Высокое значение глубины ухудшает долю правильных ответов модели, так как на некоторые уровни попадает недостаточное количество значений для корректного прогноза. Лучше всего результат показала модель с высотой дерева, равной 3 (79.93%)**"
      ]
    },
    {
      "cell_type": "markdown",
      "metadata": {
        "id": "kIxmeQO9YB42"
      },
      "source": [
        "### Random Forest"
      ]
    },
    {
      "cell_type": "code",
      "execution_count": 12,
      "metadata": {
        "colab": {
          "base_uri": "https://localhost:8080/"
        },
        "id": "baYLrF0FYB43",
        "outputId": "aa875471-d39a-4489-9f32-8702cf15fa7b",
        "scrolled": true
      },
      "outputs": [
        {
          "output_type": "stream",
          "name": "stderr",
          "text": [
            "1st loop: 100%|██████████| 19/19 [00:55<00:00,  2.95s/it]"
          ]
        },
        {
          "output_type": "stream",
          "name": "stdout",
          "text": [
            "\n",
            "\n",
            "Количество деревьев: 18\n",
            "Глубина: 17\n",
            "Accuracy наилучшей модели на валидационной выборке: 0.8195956454121306\n"
          ]
        },
        {
          "output_type": "stream",
          "name": "stderr",
          "text": [
            "\n"
          ]
        }
      ],
      "source": [
        "forest_model = None\n",
        "best_result = 0\n",
        "res_valid_forest = []\n",
        "res_train_forest = []\n",
        "for est in tqdm(range(1, 20), desc = '1st loop'):\n",
        "    for depth in (range(1, 20)):\n",
        "    \n",
        "        # объявление модели с количеством деревьев, равным est\n",
        "        model = RandomForestClassifier(random_state = 12345, n_estimators = est, max_depth = depth)\n",
        "    \n",
        "        # обучение модели на тренировочной выборке\n",
        "        model.fit(features_train, target_train)\n",
        "    \n",
        "        # Предсказание модели на валидационной выборке\n",
        "        predictions_valid = model.predict(features_valid) \n",
        "    \n",
        "        # Расчет accuracy валидационной выборки \n",
        "        result_valid = accuracy_score(target_valid, predictions_valid) \n",
        "        if est == 18:\n",
        "            res_valid_forest.append(result_valid)\n",
        "    \n",
        "        # Предсказание модели на тренировочной выборке\n",
        "        predictions_train = model.predict(features_train)\n",
        "    \n",
        "        # Расчет accuracy тренировочной выборки \n",
        "        result_train = accuracy_score(target_train, predictions_train) \n",
        "        if est == 18:\n",
        "            res_train_forest.append(result_train)\n",
        "    \n",
        "        #print(\"Количество деревьев =\", est, \": \", 'Глубина = ', depth, 'Accuracy = ', result_valid)\n",
        "    \n",
        "        if result_valid > best_result:\n",
        "            forest_model = model\n",
        "            best_result = result_valid\n",
        "            best_est = est\n",
        "            best_depth = depth\n",
        "        sleep(0.1)\n",
        "        \n",
        "print('\\n')\n",
        "print(\"Количество деревьев:\", best_est)        \n",
        "print(\"Глубина:\", best_depth)\n",
        "print(\"Accuracy наилучшей модели на валидационной выборке:\", best_result)"
      ]
    },
    {
      "cell_type": "markdown",
      "metadata": {
        "id": "qwvnpPy-YB43"
      },
      "source": [
        "**Построим график при количестве деревьев, равном восемнадцати, так как за accuracy отвечают два параметра. Это число было выбрано для того, чтобы на графике был виден лучший результат модели**"
      ]
    },
    {
      "cell_type": "code",
      "source": [
        "x = [x for x in range(1,20)]               \n",
        "y = res_valid_forest\n",
        "y2 = res_train_forest\n",
        "\n",
        "fig, ax1 = plt.subplots(figsize=(15, 4))\n",
        "ax2 = ax1.twinx()\n",
        "\n",
        "ax1.plot(x, y, 'r')\n",
        "ax1.grid(True)\n",
        "ax1.set_xlabel('Глубина')\n",
        "ax1.set_ylabel('Accuracy')\n",
        "\n",
        "ax2.plot(x, y2, 'b')\n",
        "ax2.set_title('Зависимость accuracy(depth) при количестве деревьев 18');"
      ],
      "metadata": {
        "colab": {
          "base_uri": "https://localhost:8080/",
          "height": 295
        },
        "id": "m8k25Nd6m0lM",
        "outputId": "09d1a997-1137-4c6d-b5c2-948bab37fb23"
      },
      "execution_count": 13,
      "outputs": [
        {
          "output_type": "display_data",
          "data": {
            "text/plain": [
              "<Figure size 1080x288 with 2 Axes>"
            ],
            "image/png": "[encoded data removed]"
          },
          "metadata": {
            "needs_background": "light"
          }
        }
      ]
    },
    {
      "cell_type": "markdown",
      "metadata": {
        "id": "WRhy7qXaYB44"
      },
      "source": [
        "**Согласно расчетам, количество деревьев = 18 и глубина = 17 показывает наилучший результат accuracy (81.95%)**"
      ]
    },
    {
      "cell_type": "markdown",
      "metadata": {
        "id": "hoCzbC6DYB46"
      },
      "source": [
        "### Логистическая регрессия"
      ]
    },
    {
      "cell_type": "code",
      "execution_count": 14,
      "metadata": {
        "colab": {
          "base_uri": "https://localhost:8080/"
        },
        "id": "woFRc3P-YB46",
        "outputId": "fd206246-1cf7-4b76-f2d5-bf849b82e5a8",
        "scrolled": true
      },
      "outputs": [
        {
          "output_type": "stream",
          "name": "stdout",
          "text": [
            "Accuracy модели на валидационной выборке: 0.7371695178849145\n"
          ]
        }
      ],
      "source": [
        "model = LogisticRegression(random_state = 12345, solver = 'lbfgs', max_iter = 100)\n",
        "\n",
        "# Обучение моедли на тренировочной выборке\n",
        "model.fit(features_train, target_train)\n",
        "\n",
        "# Предсказание модели на валидационной выборке\n",
        "predictions_valid = model.predict(features_valid) \n",
        "\n",
        "# Расчет accuracy валидационной выборки \n",
        "result_valid = accuracy_score(target_valid, predictions_valid)\n",
        "\n",
        "print(\"Accuracy модели на валидационной выборке:\", result_valid)"
      ]
    },
    {
      "cell_type": "markdown",
      "metadata": {
        "id": "h43a3WcCYB48"
      },
      "source": [
        "## Проверка модели на тестовой выборке"
      ]
    },
    {
      "cell_type": "markdown",
      "metadata": {
        "id": "c-UBRzOmYB48"
      },
      "source": [
        "**Проверка модели случайного леса**"
      ]
    },
    {
      "cell_type": "markdown",
      "metadata": {
        "id": "NXsPz9D3YB48"
      },
      "source": [
        "**Для проверки возьмем лучшую модель с глубиной 17 и 18-ю деревьями**"
      ]
    },
    {
      "cell_type": "code",
      "execution_count": 15,
      "metadata": {
        "colab": {
          "base_uri": "https://localhost:8080/"
        },
        "id": "qxJ2DBUoYB48",
        "outputId": "0a5b6537-bb8c-4220-ce0e-75fde7fba2b6",
        "scrolled": true
      },
      "outputs": [
        {
          "output_type": "stream",
          "name": "stdout",
          "text": [
            "Accuracy\n",
            "Тестовая выборка: 0.7947122861586314\n"
          ]
        }
      ],
      "source": [
        "# Предсказание модели на тестовой выборке\n",
        "predictions_test = forest_model.predict(features_test)\n",
        "\n",
        "# Расчет accuracy тестовой выборки \n",
        "result_forest = accuracy_score(target_test, predictions_test) \n",
        "    \n",
        "print(\"Accuracy\")\n",
        "print(\"Тестовая выборка:\" , result_forest)"
      ]
    },
    {
      "cell_type": "markdown",
      "metadata": {
        "id": "FjyjXussYB49"
      },
      "source": [
        "**Результат показал 79.47% на тестовой выборке. На валидационной значение было 81.95%. Разница в пределах небольшой погрешности. Гиперпараметры подобраны верно, так как модель справилась с задачей и получила высокую долю правильных ответов**"
      ]
    },
    {
      "cell_type": "markdown",
      "metadata": {
        "id": "yK7HJdK-YB4-"
      },
      "source": [
        "## Проверка модели на адекватность"
      ]
    },
    {
      "cell_type": "code",
      "execution_count": 16,
      "metadata": {
        "colab": {
          "base_uri": "https://localhost:8080/"
        },
        "id": "YgLHNQSEYB4-",
        "outputId": "fe6fa9af-4ce5-489d-b3d3-c907691148af",
        "scrolled": true
      },
      "outputs": [
        {
          "output_type": "stream",
          "name": "stdout",
          "text": [
            "0.6936236391912908\n"
          ]
        }
      ],
      "source": [
        "# most_frequent стратегия возвращает наиболее часто встречающееся значение в target, в нашем случае - нули\n",
        "dummy_clf = DummyClassifier(strategy = \"most_frequent\")\n",
        "\n",
        "# Обучение модели на тренировочной выборке\n",
        "dummy_clf.fit(features_train, target_train)\n",
        "\n",
        "predictions_test = dummy_clf.predict(features_test) # В predictions_test только нули\n",
        "\n",
        "# Расчет accuracy тестовой выборки \n",
        "result_test = accuracy_score(target_test, predictions_test) \n",
        "print(result_test)"
      ]
    },
    {
      "cell_type": "markdown",
      "metadata": {
        "id": "cSpKItp3YB4-"
      },
      "source": [
        "**Модель, которая предсказывает только нули будет права практически в 70% случаев. Такие результаты получились, потому что в выборке 70% нулей и 30% единиц. Модель forest_model права практически в 80% случаев, значит, работа проведена верно и имеет смысл**"
      ]
    }
  ],
  "metadata": {
    "ExecuteTimeLog": [
      {
        "duration": 529,
        "start_time": "2022-08-23T14:32:42.558Z"
      },
      {
        "duration": 29,
        "start_time": "2022-08-23T16:40:27.820Z"
      },
      {
        "duration": 35,
        "start_time": "2022-08-23T16:42:44.297Z"
      },
      {
        "duration": 10,
        "start_time": "2022-08-23T16:42:54.181Z"
      },
      {
        "duration": 19,
        "start_time": "2022-08-23T16:43:16.920Z"
      },
      {
        "duration": 10,
        "start_time": "2022-08-23T16:43:53.834Z"
      },
      {
        "duration": 13,
        "start_time": "2022-08-23T16:44:00.934Z"
      },
      {
        "duration": 720,
        "start_time": "2022-08-23T16:46:44.440Z"
      },
      {
        "duration": 29,
        "start_time": "2022-08-23T16:46:48.728Z"
      },
      {
        "duration": 11,
        "start_time": "2022-08-23T16:46:49.286Z"
      },
      {
        "duration": 5,
        "start_time": "2022-08-23T16:50:08.447Z"
      },
      {
        "duration": 64,
        "start_time": "2022-08-23T16:52:57.460Z"
      },
      {
        "duration": 32,
        "start_time": "2022-08-23T16:52:58.265Z"
      },
      {
        "duration": 10,
        "start_time": "2022-08-23T16:52:58.766Z"
      },
      {
        "duration": 21,
        "start_time": "2022-08-23T16:52:59.431Z"
      },
      {
        "duration": 137,
        "start_time": "2022-08-23T16:59:00.824Z"
      },
      {
        "duration": 5190,
        "start_time": "2022-08-23T16:59:15.622Z"
      },
      {
        "duration": 180,
        "start_time": "2022-08-23T17:00:02.231Z"
      },
      {
        "duration": 2862,
        "start_time": "2022-08-23T17:00:11.788Z"
      },
      {
        "duration": 9,
        "start_time": "2022-08-23T17:00:25.721Z"
      },
      {
        "duration": 2822,
        "start_time": "2022-08-23T17:00:30.857Z"
      },
      {
        "duration": 4,
        "start_time": "2022-08-23T17:00:33.684Z"
      },
      {
        "duration": 134,
        "start_time": "2022-08-23T17:01:46.456Z"
      },
      {
        "duration": 107,
        "start_time": "2022-08-23T17:02:04.460Z"
      },
      {
        "duration": 10,
        "start_time": "2022-08-23T17:02:09.451Z"
      },
      {
        "duration": 6,
        "start_time": "2022-08-23T17:02:16.652Z"
      },
      {
        "duration": 26,
        "start_time": "2022-08-23T17:07:01.657Z"
      },
      {
        "duration": 31,
        "start_time": "2022-08-23T17:07:13.438Z"
      },
      {
        "duration": 24,
        "start_time": "2022-08-23T17:07:18.624Z"
      },
      {
        "duration": 21,
        "start_time": "2022-08-23T17:07:50.928Z"
      },
      {
        "duration": 9,
        "start_time": "2022-08-23T17:08:10.439Z"
      },
      {
        "duration": 14,
        "start_time": "2022-08-23T17:08:26.185Z"
      },
      {
        "duration": 33,
        "start_time": "2022-08-23T17:08:43.330Z"
      },
      {
        "duration": 10,
        "start_time": "2022-08-23T17:09:15.632Z"
      },
      {
        "duration": 8,
        "start_time": "2022-08-23T17:09:34.563Z"
      },
      {
        "duration": 10,
        "start_time": "2022-08-23T17:09:39.063Z"
      },
      {
        "duration": 7,
        "start_time": "2022-08-23T17:09:45.687Z"
      },
      {
        "duration": 35,
        "start_time": "2022-08-23T17:10:10.059Z"
      },
      {
        "duration": 14,
        "start_time": "2022-08-23T17:10:16.177Z"
      },
      {
        "duration": 98,
        "start_time": "2022-08-23T17:10:46.332Z"
      },
      {
        "duration": 28,
        "start_time": "2022-08-23T17:10:49.739Z"
      },
      {
        "duration": 12,
        "start_time": "2022-08-23T17:11:08.086Z"
      },
      {
        "duration": 12,
        "start_time": "2022-08-23T17:11:12.357Z"
      },
      {
        "duration": 8,
        "start_time": "2022-08-23T17:18:54.242Z"
      },
      {
        "duration": 4,
        "start_time": "2022-08-23T17:28:53.573Z"
      },
      {
        "duration": 8,
        "start_time": "2022-08-23T17:30:14.430Z"
      },
      {
        "duration": 4,
        "start_time": "2022-08-23T17:30:49.551Z"
      },
      {
        "duration": 4,
        "start_time": "2022-08-23T17:31:22.846Z"
      },
      {
        "duration": 10,
        "start_time": "2022-08-23T17:31:23.798Z"
      },
      {
        "duration": 4,
        "start_time": "2022-08-23T17:31:41.764Z"
      },
      {
        "duration": 5,
        "start_time": "2022-08-23T17:31:46.239Z"
      },
      {
        "duration": 7,
        "start_time": "2022-08-23T17:31:46.534Z"
      },
      {
        "duration": 4,
        "start_time": "2022-08-23T17:31:52.452Z"
      },
      {
        "duration": 13,
        "start_time": "2022-08-23T17:32:09.137Z"
      },
      {
        "duration": 5,
        "start_time": "2022-08-23T17:32:09.990Z"
      },
      {
        "duration": 11,
        "start_time": "2022-08-23T17:32:13.516Z"
      },
      {
        "duration": 11,
        "start_time": "2022-08-23T17:32:14.529Z"
      },
      {
        "duration": 5,
        "start_time": "2022-08-23T17:32:20.255Z"
      },
      {
        "duration": 4,
        "start_time": "2022-08-23T17:32:21.683Z"
      },
      {
        "duration": 3,
        "start_time": "2022-08-23T17:32:37.261Z"
      },
      {
        "duration": 5,
        "start_time": "2022-08-23T17:32:37.966Z"
      },
      {
        "duration": 4,
        "start_time": "2022-08-23T17:32:41.581Z"
      },
      {
        "duration": 14,
        "start_time": "2022-08-23T17:32:42.335Z"
      },
      {
        "duration": 5,
        "start_time": "2022-08-23T17:32:50.043Z"
      },
      {
        "duration": 4,
        "start_time": "2022-08-23T17:32:50.664Z"
      },
      {
        "duration": 3,
        "start_time": "2022-08-23T17:34:31.265Z"
      },
      {
        "duration": 8,
        "start_time": "2022-08-23T17:34:31.626Z"
      },
      {
        "duration": 6,
        "start_time": "2022-08-23T17:35:40.464Z"
      },
      {
        "duration": 11,
        "start_time": "2022-08-23T17:35:53.261Z"
      },
      {
        "duration": 12,
        "start_time": "2022-08-23T17:38:35.634Z"
      },
      {
        "duration": 2875,
        "start_time": "2022-08-24T10:42:03.317Z"
      },
      {
        "duration": 1130,
        "start_time": "2022-08-24T10:42:06.194Z"
      },
      {
        "duration": 4,
        "start_time": "2022-08-24T10:42:17.874Z"
      },
      {
        "duration": 127,
        "start_time": "2022-08-24T10:42:18.323Z"
      },
      {
        "duration": 16,
        "start_time": "2022-08-24T10:42:18.923Z"
      },
      {
        "duration": 10,
        "start_time": "2022-08-24T10:42:19.716Z"
      },
      {
        "duration": 3,
        "start_time": "2022-08-24T10:42:21.043Z"
      },
      {
        "duration": 5,
        "start_time": "2022-08-24T10:44:11.474Z"
      },
      {
        "duration": 5,
        "start_time": "2022-08-24T10:47:39.509Z"
      },
      {
        "duration": 4,
        "start_time": "2022-08-24T10:47:39.869Z"
      },
      {
        "duration": 6,
        "start_time": "2022-08-24T10:48:30.543Z"
      },
      {
        "duration": 5,
        "start_time": "2022-08-24T10:48:57.456Z"
      },
      {
        "duration": 6,
        "start_time": "2022-08-24T10:48:57.765Z"
      },
      {
        "duration": 4,
        "start_time": "2022-08-24T10:49:02.211Z"
      },
      {
        "duration": 6,
        "start_time": "2022-08-24T10:49:02.526Z"
      },
      {
        "duration": 5,
        "start_time": "2022-08-24T10:49:06.134Z"
      },
      {
        "duration": 7,
        "start_time": "2022-08-24T10:49:06.469Z"
      },
      {
        "duration": 6,
        "start_time": "2022-08-24T10:49:06.853Z"
      },
      {
        "duration": 11,
        "start_time": "2022-08-24T10:49:38.673Z"
      },
      {
        "duration": 3,
        "start_time": "2022-08-24T10:53:36.808Z"
      },
      {
        "duration": 29,
        "start_time": "2022-08-24T10:53:37.110Z"
      },
      {
        "duration": 9,
        "start_time": "2022-08-24T10:53:37.723Z"
      },
      {
        "duration": 12,
        "start_time": "2022-08-24T10:53:38.592Z"
      },
      {
        "duration": 4,
        "start_time": "2022-08-24T10:53:40.630Z"
      },
      {
        "duration": 4,
        "start_time": "2022-08-24T10:53:41.351Z"
      },
      {
        "duration": 5,
        "start_time": "2022-08-24T10:53:41.711Z"
      },
      {
        "duration": 12,
        "start_time": "2022-08-24T10:53:42.327Z"
      },
      {
        "duration": 29,
        "start_time": "2022-08-24T11:32:22.110Z"
      },
      {
        "duration": 30,
        "start_time": "2022-08-24T11:33:25.415Z"
      },
      {
        "duration": 4026,
        "start_time": "2022-08-24T11:33:50.986Z"
      },
      {
        "duration": 9,
        "start_time": "2022-08-24T11:36:52.552Z"
      },
      {
        "duration": 26,
        "start_time": "2022-08-24T11:37:44.255Z"
      },
      {
        "duration": 4,
        "start_time": "2022-08-24T11:41:02.084Z"
      },
      {
        "duration": 132,
        "start_time": "2022-08-24T11:41:06.785Z"
      },
      {
        "duration": 35,
        "start_time": "2022-08-24T11:46:10.358Z"
      },
      {
        "duration": 3260,
        "start_time": "2022-08-24T11:46:27.847Z"
      },
      {
        "duration": 3,
        "start_time": "2022-08-24T11:48:06.487Z"
      },
      {
        "duration": 2056,
        "start_time": "2022-08-24T11:48:07.028Z"
      },
      {
        "duration": 2545,
        "start_time": "2022-08-24T11:48:36.911Z"
      },
      {
        "duration": 2461,
        "start_time": "2022-08-24T11:48:49.001Z"
      },
      {
        "duration": 1077,
        "start_time": "2022-08-24T11:51:57.143Z"
      },
      {
        "duration": 1095,
        "start_time": "2022-08-24T11:52:27.721Z"
      },
      {
        "duration": 27,
        "start_time": "2022-08-24T11:52:41.318Z"
      },
      {
        "duration": 920,
        "start_time": "2022-08-24T11:52:45.137Z"
      },
      {
        "duration": 10,
        "start_time": "2022-08-24T12:03:48.964Z"
      },
      {
        "duration": 2230,
        "start_time": "2022-08-24T12:03:54.623Z"
      },
      {
        "duration": 4,
        "start_time": "2022-08-24T12:04:38.750Z"
      },
      {
        "duration": 19,
        "start_time": "2022-08-24T12:04:55.039Z"
      },
      {
        "duration": 5,
        "start_time": "2022-08-24T12:05:03.668Z"
      },
      {
        "duration": 3,
        "start_time": "2022-08-24T12:05:12.218Z"
      },
      {
        "duration": 10,
        "start_time": "2022-08-24T12:05:25.071Z"
      },
      {
        "duration": 2190,
        "start_time": "2022-08-24T12:06:15.399Z"
      },
      {
        "duration": 3,
        "start_time": "2022-08-24T12:07:11.867Z"
      },
      {
        "duration": 29,
        "start_time": "2022-08-24T12:07:12.058Z"
      },
      {
        "duration": 10,
        "start_time": "2022-08-24T12:07:12.242Z"
      },
      {
        "duration": 11,
        "start_time": "2022-08-24T12:07:12.592Z"
      },
      {
        "duration": 4,
        "start_time": "2022-08-24T12:07:13.961Z"
      },
      {
        "duration": 5,
        "start_time": "2022-08-24T12:07:14.629Z"
      },
      {
        "duration": 5,
        "start_time": "2022-08-24T12:07:15.063Z"
      },
      {
        "duration": 10,
        "start_time": "2022-08-24T12:07:15.731Z"
      },
      {
        "duration": 3,
        "start_time": "2022-08-24T12:07:17.143Z"
      },
      {
        "duration": 11,
        "start_time": "2022-08-24T12:07:20.619Z"
      },
      {
        "duration": 1637,
        "start_time": "2022-08-24T12:07:22.522Z"
      },
      {
        "duration": 4,
        "start_time": "2022-08-24T12:07:51.497Z"
      },
      {
        "duration": 10,
        "start_time": "2022-08-24T12:08:07.333Z"
      },
      {
        "duration": 11,
        "start_time": "2022-08-24T12:08:14.095Z"
      },
      {
        "duration": 9,
        "start_time": "2022-08-24T12:09:45.857Z"
      },
      {
        "duration": 3,
        "start_time": "2022-08-24T12:10:01.745Z"
      },
      {
        "duration": 29,
        "start_time": "2022-08-24T12:10:03.308Z"
      },
      {
        "duration": 9,
        "start_time": "2022-08-24T12:10:03.589Z"
      },
      {
        "duration": 11,
        "start_time": "2022-08-24T12:10:04.009Z"
      },
      {
        "duration": 4,
        "start_time": "2022-08-24T12:10:05.229Z"
      },
      {
        "duration": 5,
        "start_time": "2022-08-24T12:10:05.784Z"
      },
      {
        "duration": 5,
        "start_time": "2022-08-24T12:10:06.096Z"
      },
      {
        "duration": 10,
        "start_time": "2022-08-24T12:10:06.661Z"
      },
      {
        "duration": 3,
        "start_time": "2022-08-24T12:10:07.895Z"
      },
      {
        "duration": 11,
        "start_time": "2022-08-24T12:10:11.175Z"
      },
      {
        "duration": 7,
        "start_time": "2022-08-24T12:10:11.443Z"
      },
      {
        "duration": 3286,
        "start_time": "2022-08-24T12:10:21.865Z"
      },
      {
        "duration": 2672,
        "start_time": "2022-08-24T12:10:56.411Z"
      },
      {
        "duration": 2755,
        "start_time": "2022-08-24T12:11:15.078Z"
      },
      {
        "duration": 11,
        "start_time": "2022-08-24T12:11:34.981Z"
      },
      {
        "duration": 3323,
        "start_time": "2022-08-24T12:13:06.405Z"
      },
      {
        "duration": 7,
        "start_time": "2022-08-24T12:13:17.517Z"
      },
      {
        "duration": 8,
        "start_time": "2022-08-24T12:15:39.958Z"
      },
      {
        "duration": 3,
        "start_time": "2022-08-24T12:15:48.134Z"
      },
      {
        "duration": 29,
        "start_time": "2022-08-24T12:15:48.304Z"
      },
      {
        "duration": 10,
        "start_time": "2022-08-24T12:15:48.473Z"
      },
      {
        "duration": 12,
        "start_time": "2022-08-24T12:15:48.613Z"
      },
      {
        "duration": 3,
        "start_time": "2022-08-24T12:15:49.117Z"
      },
      {
        "duration": 7,
        "start_time": "2022-08-24T12:15:49.654Z"
      },
      {
        "duration": 4,
        "start_time": "2022-08-24T12:15:49.821Z"
      },
      {
        "duration": 11,
        "start_time": "2022-08-24T12:15:50.005Z"
      },
      {
        "duration": 3,
        "start_time": "2022-08-24T12:15:51.007Z"
      },
      {
        "duration": 3,
        "start_time": "2022-08-24T12:15:55.418Z"
      },
      {
        "duration": 12,
        "start_time": "2022-08-24T12:15:58.714Z"
      },
      {
        "duration": 18,
        "start_time": "2022-08-24T12:16:18.088Z"
      },
      {
        "duration": 12,
        "start_time": "2022-08-24T12:16:22.168Z"
      },
      {
        "duration": 5,
        "start_time": "2022-08-24T12:17:56.327Z"
      },
      {
        "duration": 13,
        "start_time": "2022-08-24T12:18:23.119Z"
      },
      {
        "duration": 5,
        "start_time": "2022-08-24T12:19:14.703Z"
      },
      {
        "duration": 10,
        "start_time": "2022-08-24T12:19:45.051Z"
      },
      {
        "duration": 14,
        "start_time": "2022-08-24T12:20:21.344Z"
      },
      {
        "duration": 8,
        "start_time": "2022-08-24T12:20:23.924Z"
      },
      {
        "duration": 5,
        "start_time": "2022-08-24T12:20:35.244Z"
      },
      {
        "duration": 16,
        "start_time": "2022-08-24T12:21:36.372Z"
      },
      {
        "duration": 4,
        "start_time": "2022-08-24T12:21:37.163Z"
      },
      {
        "duration": 3,
        "start_time": "2022-08-24T12:21:57.809Z"
      },
      {
        "duration": 29,
        "start_time": "2022-08-24T12:21:57.977Z"
      },
      {
        "duration": 9,
        "start_time": "2022-08-24T12:21:58.142Z"
      },
      {
        "duration": 10,
        "start_time": "2022-08-24T12:21:58.305Z"
      },
      {
        "duration": 4,
        "start_time": "2022-08-24T12:21:58.932Z"
      },
      {
        "duration": 5,
        "start_time": "2022-08-24T12:21:59.326Z"
      },
      {
        "duration": 5,
        "start_time": "2022-08-24T12:21:59.488Z"
      },
      {
        "duration": 14,
        "start_time": "2022-08-24T12:21:59.872Z"
      },
      {
        "duration": 3,
        "start_time": "2022-08-24T12:22:01.599Z"
      },
      {
        "duration": 14,
        "start_time": "2022-08-24T12:22:05.172Z"
      },
      {
        "duration": 5,
        "start_time": "2022-08-24T12:22:06.360Z"
      },
      {
        "duration": 2,
        "start_time": "2022-08-24T12:23:21.021Z"
      },
      {
        "duration": 33,
        "start_time": "2022-08-24T12:23:21.411Z"
      },
      {
        "duration": 9,
        "start_time": "2022-08-24T12:23:21.839Z"
      },
      {
        "duration": 12,
        "start_time": "2022-08-24T12:23:22.082Z"
      },
      {
        "duration": 3,
        "start_time": "2022-08-24T12:23:23.620Z"
      },
      {
        "duration": 4,
        "start_time": "2022-08-24T12:23:24.497Z"
      },
      {
        "duration": 5,
        "start_time": "2022-08-24T12:23:25.055Z"
      },
      {
        "duration": 10,
        "start_time": "2022-08-24T12:23:25.590Z"
      },
      {
        "duration": 13,
        "start_time": "2022-08-24T12:23:29.959Z"
      },
      {
        "duration": 5,
        "start_time": "2022-08-24T12:23:36.442Z"
      },
      {
        "duration": 4298,
        "start_time": "2022-08-24T12:23:52.731Z"
      },
      {
        "duration": 3,
        "start_time": "2022-08-24T12:24:27.817Z"
      },
      {
        "duration": 71,
        "start_time": "2022-08-24T12:25:19.677Z"
      },
      {
        "duration": 69,
        "start_time": "2022-08-24T12:25:31.705Z"
      },
      {
        "duration": 71,
        "start_time": "2022-08-24T12:25:48.268Z"
      },
      {
        "duration": 74,
        "start_time": "2022-08-24T12:26:50.710Z"
      },
      {
        "duration": 9,
        "start_time": "2022-08-24T12:27:27.650Z"
      },
      {
        "duration": 87,
        "start_time": "2022-08-24T12:27:56.364Z"
      },
      {
        "duration": 4,
        "start_time": "2022-08-24T12:27:57.421Z"
      },
      {
        "duration": 12,
        "start_time": "2022-08-24T12:28:52.679Z"
      },
      {
        "duration": 4,
        "start_time": "2022-08-24T12:28:59.454Z"
      },
      {
        "duration": 74,
        "start_time": "2022-08-24T12:29:00.872Z"
      },
      {
        "duration": 84,
        "start_time": "2022-08-24T12:29:35.994Z"
      },
      {
        "duration": 5,
        "start_time": "2022-08-24T12:29:36.347Z"
      },
      {
        "duration": 12,
        "start_time": "2022-08-24T12:30:06.476Z"
      },
      {
        "duration": 15,
        "start_time": "2022-08-24T12:30:08.315Z"
      },
      {
        "duration": 2,
        "start_time": "2022-08-24T12:32:59.197Z"
      },
      {
        "duration": 11,
        "start_time": "2022-08-24T12:32:59.782Z"
      },
      {
        "duration": 7,
        "start_time": "2022-08-24T12:35:52.699Z"
      },
      {
        "duration": 1018,
        "start_time": "2022-08-25T09:24:52.061Z"
      },
      {
        "duration": 0,
        "start_time": "2022-08-25T09:24:53.081Z"
      },
      {
        "duration": 8,
        "start_time": "2022-08-25T09:24:53.749Z"
      },
      {
        "duration": 188,
        "start_time": "2022-08-25T09:25:58.615Z"
      },
      {
        "duration": 110,
        "start_time": "2022-08-25T09:26:01.158Z"
      },
      {
        "duration": 17,
        "start_time": "2022-08-25T09:26:02.183Z"
      },
      {
        "duration": 12,
        "start_time": "2022-08-25T09:26:03.158Z"
      },
      {
        "duration": 4,
        "start_time": "2022-08-25T09:26:06.885Z"
      },
      {
        "duration": 5,
        "start_time": "2022-08-25T09:26:08.934Z"
      },
      {
        "duration": 5,
        "start_time": "2022-08-25T09:26:09.392Z"
      },
      {
        "duration": 8,
        "start_time": "2022-08-25T09:26:10.374Z"
      },
      {
        "duration": 14,
        "start_time": "2022-08-25T09:26:20.925Z"
      },
      {
        "duration": 13,
        "start_time": "2022-08-25T09:29:17.202Z"
      },
      {
        "duration": 4,
        "start_time": "2022-08-25T09:29:18.977Z"
      },
      {
        "duration": 13,
        "start_time": "2022-08-25T09:29:28.951Z"
      },
      {
        "duration": 5,
        "start_time": "2022-08-25T09:29:30.677Z"
      },
      {
        "duration": 11,
        "start_time": "2022-08-25T09:29:34.748Z"
      },
      {
        "duration": 6,
        "start_time": "2022-08-25T09:29:35.338Z"
      },
      {
        "duration": 13,
        "start_time": "2022-08-25T09:29:38.402Z"
      },
      {
        "duration": 4,
        "start_time": "2022-08-25T09:29:38.957Z"
      },
      {
        "duration": 10,
        "start_time": "2022-08-25T09:29:41.644Z"
      },
      {
        "duration": 4,
        "start_time": "2022-08-25T09:29:42.061Z"
      },
      {
        "duration": 14,
        "start_time": "2022-08-25T09:29:45.306Z"
      },
      {
        "duration": 5,
        "start_time": "2022-08-25T09:29:46.270Z"
      },
      {
        "duration": 14,
        "start_time": "2022-08-25T09:29:48.764Z"
      },
      {
        "duration": 4,
        "start_time": "2022-08-25T09:29:49.208Z"
      },
      {
        "duration": 14,
        "start_time": "2022-08-25T09:29:52.249Z"
      },
      {
        "duration": 5,
        "start_time": "2022-08-25T09:29:52.647Z"
      },
      {
        "duration": 18,
        "start_time": "2022-08-25T09:29:55.282Z"
      },
      {
        "duration": 5,
        "start_time": "2022-08-25T09:29:55.957Z"
      },
      {
        "duration": 15,
        "start_time": "2022-08-25T09:29:59.193Z"
      },
      {
        "duration": 4,
        "start_time": "2022-08-25T09:29:59.809Z"
      },
      {
        "duration": 17,
        "start_time": "2022-08-25T09:30:56.688Z"
      },
      {
        "duration": 4,
        "start_time": "2022-08-25T09:30:58.982Z"
      },
      {
        "duration": 76,
        "start_time": "2022-08-25T09:31:22.034Z"
      },
      {
        "duration": 5,
        "start_time": "2022-08-25T09:31:23.412Z"
      },
      {
        "duration": 38,
        "start_time": "2022-08-25T09:33:41.363Z"
      },
      {
        "duration": 37,
        "start_time": "2022-08-25T09:34:46.588Z"
      },
      {
        "duration": 87,
        "start_time": "2022-08-25T09:34:51.833Z"
      },
      {
        "duration": 1712,
        "start_time": "2022-08-25T09:34:57.290Z"
      },
      {
        "duration": 1875,
        "start_time": "2022-08-25T09:35:23.662Z"
      },
      {
        "duration": 10,
        "start_time": "2022-08-25T09:35:40.122Z"
      },
      {
        "duration": 4,
        "start_time": "2022-08-25T09:35:41.926Z"
      },
      {
        "duration": 83,
        "start_time": "2022-08-25T09:35:52.907Z"
      },
      {
        "duration": 105,
        "start_time": "2022-08-25T09:37:41.374Z"
      },
      {
        "duration": 157,
        "start_time": "2022-08-25T09:37:48.974Z"
      },
      {
        "duration": 208,
        "start_time": "2022-08-25T09:37:53.540Z"
      },
      {
        "duration": 27,
        "start_time": "2022-08-25T09:43:07.596Z"
      },
      {
        "duration": 21,
        "start_time": "2022-08-25T09:44:17.603Z"
      },
      {
        "duration": 21,
        "start_time": "2022-08-25T09:44:45.796Z"
      },
      {
        "duration": 21,
        "start_time": "2022-08-25T09:45:06.288Z"
      },
      {
        "duration": 20,
        "start_time": "2022-08-25T09:45:15.285Z"
      },
      {
        "duration": 83,
        "start_time": "2022-08-25T09:46:05.350Z"
      },
      {
        "duration": 206,
        "start_time": "2022-08-25T11:58:54.200Z"
      },
      {
        "duration": 2149,
        "start_time": "2022-08-25T11:58:59.625Z"
      },
      {
        "duration": 2072,
        "start_time": "2022-08-25T12:01:07.423Z"
      },
      {
        "duration": 111,
        "start_time": "2022-08-25T12:01:22.428Z"
      },
      {
        "duration": 10,
        "start_time": "2022-08-25T12:02:12.869Z"
      },
      {
        "duration": 8,
        "start_time": "2022-08-25T12:02:19.799Z"
      },
      {
        "duration": 5,
        "start_time": "2022-08-25T12:02:22.197Z"
      },
      {
        "duration": 4,
        "start_time": "2022-08-25T12:02:32.770Z"
      },
      {
        "duration": 28,
        "start_time": "2022-08-25T12:02:33.450Z"
      },
      {
        "duration": 10,
        "start_time": "2022-08-25T12:02:33.751Z"
      },
      {
        "duration": 10,
        "start_time": "2022-08-25T12:02:34.148Z"
      },
      {
        "duration": 3,
        "start_time": "2022-08-25T12:02:35.458Z"
      },
      {
        "duration": 4,
        "start_time": "2022-08-25T12:02:36.098Z"
      },
      {
        "duration": 4,
        "start_time": "2022-08-25T12:02:37.163Z"
      },
      {
        "duration": 9,
        "start_time": "2022-08-25T12:02:38.368Z"
      },
      {
        "duration": 11,
        "start_time": "2022-08-25T12:02:47.851Z"
      },
      {
        "duration": 5,
        "start_time": "2022-08-25T12:02:48.833Z"
      },
      {
        "duration": 9,
        "start_time": "2022-08-25T12:03:31.092Z"
      },
      {
        "duration": 4,
        "start_time": "2022-08-25T12:03:31.437Z"
      },
      {
        "duration": 4,
        "start_time": "2022-08-25T12:03:43.281Z"
      },
      {
        "duration": 4,
        "start_time": "2022-08-25T12:04:40.235Z"
      },
      {
        "duration": 4,
        "start_time": "2022-08-25T12:04:41.064Z"
      },
      {
        "duration": 4,
        "start_time": "2022-08-25T12:05:07.039Z"
      },
      {
        "duration": 9,
        "start_time": "2022-08-25T12:05:35.263Z"
      },
      {
        "duration": 4,
        "start_time": "2022-08-25T12:05:35.570Z"
      },
      {
        "duration": 4,
        "start_time": "2022-08-25T12:06:19.265Z"
      },
      {
        "duration": 69,
        "start_time": "2022-08-25T12:12:28.395Z"
      },
      {
        "duration": 153,
        "start_time": "2022-08-25T12:13:03.787Z"
      },
      {
        "duration": 186,
        "start_time": "2022-08-25T12:13:10.461Z"
      },
      {
        "duration": 3,
        "start_time": "2022-08-25T12:15:25.642Z"
      },
      {
        "duration": 29,
        "start_time": "2022-08-25T12:15:26.133Z"
      },
      {
        "duration": 8,
        "start_time": "2022-08-25T12:15:26.480Z"
      },
      {
        "duration": 10,
        "start_time": "2022-08-25T12:15:26.770Z"
      },
      {
        "duration": 4,
        "start_time": "2022-08-25T12:15:27.980Z"
      },
      {
        "duration": 5,
        "start_time": "2022-08-25T12:15:28.747Z"
      },
      {
        "duration": 5,
        "start_time": "2022-08-25T12:15:29.232Z"
      },
      {
        "duration": 10,
        "start_time": "2022-08-25T12:15:29.973Z"
      },
      {
        "duration": 176,
        "start_time": "2022-08-25T12:15:32.530Z"
      },
      {
        "duration": 262,
        "start_time": "2022-08-25T12:26:01.232Z"
      },
      {
        "duration": 263,
        "start_time": "2022-08-25T12:26:51.437Z"
      },
      {
        "duration": 272,
        "start_time": "2022-08-25T12:27:03.968Z"
      },
      {
        "duration": 293,
        "start_time": "2022-08-25T12:27:53.961Z"
      },
      {
        "duration": 282,
        "start_time": "2022-08-25T12:28:14.828Z"
      },
      {
        "duration": 945,
        "start_time": "2022-08-25T12:28:22.314Z"
      },
      {
        "duration": 870,
        "start_time": "2022-08-25T12:29:17.915Z"
      },
      {
        "duration": 915,
        "start_time": "2022-08-25T12:29:30.728Z"
      },
      {
        "duration": 3,
        "start_time": "2022-08-25T12:30:38.711Z"
      },
      {
        "duration": 28,
        "start_time": "2022-08-25T12:30:39.189Z"
      },
      {
        "duration": 10,
        "start_time": "2022-08-25T12:30:39.680Z"
      },
      {
        "duration": 11,
        "start_time": "2022-08-25T12:30:40.180Z"
      },
      {
        "duration": 5,
        "start_time": "2022-08-25T12:30:41.588Z"
      },
      {
        "duration": 5,
        "start_time": "2022-08-25T12:30:42.357Z"
      },
      {
        "duration": 5,
        "start_time": "2022-08-25T12:30:42.732Z"
      },
      {
        "duration": 10,
        "start_time": "2022-08-25T12:30:43.189Z"
      },
      {
        "duration": 198,
        "start_time": "2022-08-25T12:30:45.252Z"
      },
      {
        "duration": 870,
        "start_time": "2022-08-25T12:30:52.373Z"
      },
      {
        "duration": 10,
        "start_time": "2022-08-25T12:31:05.420Z"
      },
      {
        "duration": 4,
        "start_time": "2022-08-25T12:31:06.070Z"
      },
      {
        "duration": 179,
        "start_time": "2022-08-25T12:36:15.154Z"
      },
      {
        "duration": 181,
        "start_time": "2022-08-25T12:37:15.487Z"
      },
      {
        "duration": 76,
        "start_time": "2022-08-25T12:37:36.115Z"
      },
      {
        "duration": 88,
        "start_time": "2022-08-25T12:38:16.054Z"
      },
      {
        "duration": 77,
        "start_time": "2022-08-25T12:38:37.163Z"
      },
      {
        "duration": 77,
        "start_time": "2022-08-25T12:38:47.209Z"
      },
      {
        "duration": 82,
        "start_time": "2022-08-25T12:39:45.717Z"
      },
      {
        "duration": 78,
        "start_time": "2022-08-25T12:40:47.744Z"
      },
      {
        "duration": 80,
        "start_time": "2022-08-25T12:40:59.961Z"
      },
      {
        "duration": 74,
        "start_time": "2022-08-25T12:41:47.683Z"
      },
      {
        "duration": 77,
        "start_time": "2022-08-25T12:42:02.268Z"
      },
      {
        "duration": 3,
        "start_time": "2022-08-25T12:42:13.716Z"
      },
      {
        "duration": 28,
        "start_time": "2022-08-25T12:42:13.892Z"
      },
      {
        "duration": 10,
        "start_time": "2022-08-25T12:42:14.062Z"
      },
      {
        "duration": 11,
        "start_time": "2022-08-25T12:42:14.237Z"
      },
      {
        "duration": 3,
        "start_time": "2022-08-25T12:42:14.794Z"
      },
      {
        "duration": 5,
        "start_time": "2022-08-25T12:42:15.143Z"
      },
      {
        "duration": 6,
        "start_time": "2022-08-25T12:42:15.349Z"
      },
      {
        "duration": 15,
        "start_time": "2022-08-25T12:42:15.668Z"
      },
      {
        "duration": 78,
        "start_time": "2022-08-25T12:42:17.220Z"
      },
      {
        "duration": 76,
        "start_time": "2022-08-25T12:43:28.493Z"
      },
      {
        "duration": 876,
        "start_time": "2022-08-25T12:45:33.944Z"
      },
      {
        "duration": 938,
        "start_time": "2022-08-25T12:46:32.478Z"
      },
      {
        "duration": 967,
        "start_time": "2022-08-25T12:46:48.726Z"
      },
      {
        "duration": 896,
        "start_time": "2022-08-25T12:47:00.977Z"
      },
      {
        "duration": 607,
        "start_time": "2022-08-25T12:47:16.234Z"
      },
      {
        "duration": 78,
        "start_time": "2022-08-25T12:48:52.478Z"
      },
      {
        "duration": 598,
        "start_time": "2022-08-25T12:48:59.786Z"
      },
      {
        "duration": 587,
        "start_time": "2022-08-25T12:49:16.889Z"
      },
      {
        "duration": 79,
        "start_time": "2022-08-25T12:49:53.452Z"
      },
      {
        "duration": 583,
        "start_time": "2022-08-25T12:50:12.540Z"
      },
      {
        "duration": 6,
        "start_time": "2022-08-25T12:51:42.621Z"
      },
      {
        "duration": 6,
        "start_time": "2022-08-25T12:52:13.157Z"
      },
      {
        "duration": 7,
        "start_time": "2022-08-25T12:52:42.590Z"
      },
      {
        "duration": 9,
        "start_time": "2022-08-25T12:53:49.186Z"
      },
      {
        "duration": 1038,
        "start_time": "2022-08-25T12:56:58.805Z"
      },
      {
        "duration": 29,
        "start_time": "2022-08-25T12:56:59.844Z"
      },
      {
        "duration": 17,
        "start_time": "2022-08-25T12:56:59.874Z"
      },
      {
        "duration": 10,
        "start_time": "2022-08-25T12:56:59.893Z"
      },
      {
        "duration": 7,
        "start_time": "2022-08-25T12:56:59.904Z"
      },
      {
        "duration": 8,
        "start_time": "2022-08-25T12:56:59.912Z"
      },
      {
        "duration": 5,
        "start_time": "2022-08-25T12:56:59.921Z"
      },
      {
        "duration": 11,
        "start_time": "2022-08-25T12:56:59.927Z"
      },
      {
        "duration": 78,
        "start_time": "2022-08-25T12:56:59.957Z"
      },
      {
        "duration": 634,
        "start_time": "2022-08-25T12:57:00.058Z"
      },
      {
        "duration": 7,
        "start_time": "2022-08-25T12:57:00.695Z"
      },
      {
        "duration": 20,
        "start_time": "2022-08-25T12:57:00.703Z"
      },
      {
        "duration": 93,
        "start_time": "2022-08-25T13:44:56.877Z"
      },
      {
        "duration": 4,
        "start_time": "2022-08-25T13:45:21.032Z"
      },
      {
        "duration": 51,
        "start_time": "2022-08-25T13:45:29.926Z"
      },
      {
        "duration": 37,
        "start_time": "2022-08-25T13:46:42.244Z"
      },
      {
        "duration": 37,
        "start_time": "2022-08-25T13:46:54.187Z"
      },
      {
        "duration": 38,
        "start_time": "2022-08-25T13:47:22.298Z"
      },
      {
        "duration": 63,
        "start_time": "2022-08-25T13:47:45.612Z"
      },
      {
        "duration": 51,
        "start_time": "2022-08-25T13:47:51.815Z"
      },
      {
        "duration": 37,
        "start_time": "2022-08-25T13:47:55.907Z"
      },
      {
        "duration": 44,
        "start_time": "2022-08-25T13:48:28.992Z"
      },
      {
        "duration": 37,
        "start_time": "2022-08-25T13:48:44.801Z"
      },
      {
        "duration": 6,
        "start_time": "2022-08-25T13:50:12.539Z"
      },
      {
        "duration": 9,
        "start_time": "2022-08-25T13:50:22.100Z"
      },
      {
        "duration": 38,
        "start_time": "2022-08-25T13:50:34.051Z"
      },
      {
        "duration": 6,
        "start_time": "2022-08-25T13:50:36.855Z"
      },
      {
        "duration": 9,
        "start_time": "2022-08-25T13:50:38.627Z"
      },
      {
        "duration": 5,
        "start_time": "2022-08-25T13:50:39.852Z"
      },
      {
        "duration": 35,
        "start_time": "2022-08-25T13:50:44.529Z"
      },
      {
        "duration": 1065,
        "start_time": "2022-08-25T13:51:07.969Z"
      },
      {
        "duration": 28,
        "start_time": "2022-08-25T13:51:09.036Z"
      },
      {
        "duration": 18,
        "start_time": "2022-08-25T13:51:09.066Z"
      },
      {
        "duration": 17,
        "start_time": "2022-08-25T13:51:09.087Z"
      },
      {
        "duration": 28,
        "start_time": "2022-08-25T13:51:09.106Z"
      },
      {
        "duration": 29,
        "start_time": "2022-08-25T13:51:09.135Z"
      },
      {
        "duration": 19,
        "start_time": "2022-08-25T13:51:09.166Z"
      },
      {
        "duration": 38,
        "start_time": "2022-08-25T13:51:09.186Z"
      },
      {
        "duration": 89,
        "start_time": "2022-08-25T13:51:09.226Z"
      },
      {
        "duration": 609,
        "start_time": "2022-08-25T13:51:09.318Z"
      },
      {
        "duration": 51,
        "start_time": "2022-08-25T13:51:09.929Z"
      },
      {
        "duration": 6,
        "start_time": "2022-08-25T13:51:09.981Z"
      },
      {
        "duration": 46,
        "start_time": "2022-08-25T13:51:09.988Z"
      },
      {
        "duration": 12,
        "start_time": "2022-08-25T13:51:10.035Z"
      },
      {
        "duration": 993,
        "start_time": "2022-08-25T14:00:38.183Z"
      },
      {
        "duration": 35,
        "start_time": "2022-08-25T14:00:39.178Z"
      },
      {
        "duration": 22,
        "start_time": "2022-08-25T14:00:39.214Z"
      },
      {
        "duration": 11,
        "start_time": "2022-08-25T14:00:39.238Z"
      },
      {
        "duration": 6,
        "start_time": "2022-08-25T14:00:39.251Z"
      },
      {
        "duration": 14,
        "start_time": "2022-08-25T14:00:39.259Z"
      },
      {
        "duration": 14,
        "start_time": "2022-08-25T14:00:39.274Z"
      },
      {
        "duration": 18,
        "start_time": "2022-08-25T14:00:39.290Z"
      },
      {
        "duration": 82,
        "start_time": "2022-08-25T14:00:39.309Z"
      },
      {
        "duration": 603,
        "start_time": "2022-08-25T14:00:39.393Z"
      },
      {
        "duration": 60,
        "start_time": "2022-08-25T14:00:39.998Z"
      },
      {
        "duration": 6,
        "start_time": "2022-08-25T14:00:40.060Z"
      },
      {
        "duration": 24,
        "start_time": "2022-08-25T14:00:40.068Z"
      },
      {
        "duration": 11,
        "start_time": "2022-08-25T14:00:40.094Z"
      },
      {
        "duration": 10,
        "start_time": "2022-08-25T14:02:31.312Z"
      },
      {
        "duration": 1044,
        "start_time": "2022-08-25T14:05:22.060Z"
      },
      {
        "duration": 48,
        "start_time": "2022-08-25T14:05:23.106Z"
      },
      {
        "duration": 17,
        "start_time": "2022-08-25T14:05:23.155Z"
      },
      {
        "duration": 11,
        "start_time": "2022-08-25T14:05:23.174Z"
      },
      {
        "duration": 7,
        "start_time": "2022-08-25T14:05:23.186Z"
      },
      {
        "duration": 14,
        "start_time": "2022-08-25T14:05:23.194Z"
      },
      {
        "duration": 7,
        "start_time": "2022-08-25T14:05:23.210Z"
      },
      {
        "duration": 41,
        "start_time": "2022-08-25T14:05:23.218Z"
      },
      {
        "duration": 81,
        "start_time": "2022-08-25T14:05:23.261Z"
      },
      {
        "duration": 604,
        "start_time": "2022-08-25T14:05:23.358Z"
      },
      {
        "duration": 36,
        "start_time": "2022-08-25T14:05:23.964Z"
      },
      {
        "duration": 6,
        "start_time": "2022-08-25T14:05:24.002Z"
      },
      {
        "duration": 18,
        "start_time": "2022-08-25T14:05:24.010Z"
      },
      {
        "duration": 30,
        "start_time": "2022-08-25T14:05:24.029Z"
      },
      {
        "duration": 1681,
        "start_time": "2022-08-25T14:34:06.331Z"
      },
      {
        "duration": 44,
        "start_time": "2022-08-25T14:34:08.015Z"
      },
      {
        "duration": 28,
        "start_time": "2022-08-25T14:34:08.062Z"
      },
      {
        "duration": 31,
        "start_time": "2022-08-25T14:34:08.092Z"
      },
      {
        "duration": 18,
        "start_time": "2022-08-25T14:34:08.134Z"
      },
      {
        "duration": 12,
        "start_time": "2022-08-25T14:34:08.154Z"
      },
      {
        "duration": 7,
        "start_time": "2022-08-25T14:34:08.169Z"
      },
      {
        "duration": 19,
        "start_time": "2022-08-25T14:34:08.178Z"
      },
      {
        "duration": 126,
        "start_time": "2022-08-25T14:34:08.199Z"
      },
      {
        "duration": 854,
        "start_time": "2022-08-25T14:34:08.335Z"
      },
      {
        "duration": 60,
        "start_time": "2022-08-25T14:34:09.203Z"
      },
      {
        "duration": 8,
        "start_time": "2022-08-25T14:34:09.266Z"
      },
      {
        "duration": 34,
        "start_time": "2022-08-25T14:34:09.276Z"
      },
      {
        "duration": 21,
        "start_time": "2022-08-25T14:34:09.312Z"
      },
      {
        "duration": 50,
        "start_time": "2022-08-26T22:00:00.031Z"
      },
      {
        "duration": 1082,
        "start_time": "2022-08-26T22:00:08.992Z"
      },
      {
        "duration": 123,
        "start_time": "2022-08-26T22:00:10.141Z"
      },
      {
        "duration": 20,
        "start_time": "2022-08-26T22:00:10.693Z"
      },
      {
        "duration": 11,
        "start_time": "2022-08-26T22:00:11.117Z"
      },
      {
        "duration": 3,
        "start_time": "2022-08-26T22:00:12.822Z"
      },
      {
        "duration": 6,
        "start_time": "2022-08-26T22:00:17.789Z"
      },
      {
        "duration": 86,
        "start_time": "2022-08-26T22:00:29.144Z"
      },
      {
        "duration": 5,
        "start_time": "2022-08-26T22:00:36.332Z"
      },
      {
        "duration": 8,
        "start_time": "2022-08-26T22:00:38.028Z"
      },
      {
        "duration": 86,
        "start_time": "2022-08-26T22:01:32.077Z"
      },
      {
        "duration": 1245,
        "start_time": "2022-08-27T19:30:10.654Z"
      },
      {
        "duration": 69,
        "start_time": "2022-08-27T19:30:12.683Z"
      },
      {
        "duration": 25,
        "start_time": "2022-08-27T19:30:13.254Z"
      },
      {
        "duration": 21,
        "start_time": "2022-08-27T19:30:13.760Z"
      },
      {
        "duration": 14,
        "start_time": "2022-08-27T19:30:15.965Z"
      },
      {
        "duration": 7,
        "start_time": "2022-08-27T19:30:18.318Z"
      },
      {
        "duration": 6,
        "start_time": "2022-08-27T19:30:21.216Z"
      },
      {
        "duration": 13,
        "start_time": "2022-08-27T19:30:21.604Z"
      },
      {
        "duration": 86,
        "start_time": "2022-08-27T19:37:58.768Z"
      },
      {
        "duration": 107,
        "start_time": "2022-08-27T20:00:02.717Z"
      },
      {
        "duration": 113,
        "start_time": "2022-08-27T20:00:27.814Z"
      },
      {
        "duration": 515,
        "start_time": "2022-08-27T20:01:06.424Z"
      },
      {
        "duration": 31,
        "start_time": "2022-08-27T20:01:09.170Z"
      },
      {
        "duration": 12,
        "start_time": "2022-08-27T20:01:09.349Z"
      },
      {
        "duration": 12,
        "start_time": "2022-08-27T20:01:09.514Z"
      },
      {
        "duration": 4,
        "start_time": "2022-08-27T20:01:10.465Z"
      },
      {
        "duration": 7,
        "start_time": "2022-08-27T20:01:10.882Z"
      },
      {
        "duration": 6,
        "start_time": "2022-08-27T20:01:11.129Z"
      },
      {
        "duration": 10,
        "start_time": "2022-08-27T20:01:11.366Z"
      },
      {
        "duration": 94,
        "start_time": "2022-08-27T20:01:13.024Z"
      },
      {
        "duration": 255,
        "start_time": "2022-08-27T20:01:13.554Z"
      },
      {
        "duration": 224,
        "start_time": "2022-08-27T20:01:19.495Z"
      },
      {
        "duration": 11,
        "start_time": "2022-08-27T20:03:21.257Z"
      },
      {
        "duration": 14,
        "start_time": "2022-08-27T20:03:46.498Z"
      },
      {
        "duration": 30,
        "start_time": "2022-08-27T20:03:48.089Z"
      },
      {
        "duration": 11,
        "start_time": "2022-08-27T20:03:48.251Z"
      },
      {
        "duration": 12,
        "start_time": "2022-08-27T20:03:48.418Z"
      },
      {
        "duration": 4,
        "start_time": "2022-08-27T20:03:49.134Z"
      },
      {
        "duration": 6,
        "start_time": "2022-08-27T20:03:49.474Z"
      },
      {
        "duration": 7,
        "start_time": "2022-08-27T20:03:49.650Z"
      },
      {
        "duration": 11,
        "start_time": "2022-08-27T20:03:49.847Z"
      },
      {
        "duration": 87,
        "start_time": "2022-08-27T20:03:50.788Z"
      },
      {
        "duration": 218,
        "start_time": "2022-08-27T20:03:50.973Z"
      },
      {
        "duration": 41,
        "start_time": "2022-08-27T20:03:51.193Z"
      },
      {
        "duration": 14,
        "start_time": "2022-08-27T20:04:54.919Z"
      },
      {
        "duration": 254,
        "start_time": "2022-08-27T20:05:15.883Z"
      },
      {
        "duration": 32,
        "start_time": "2022-08-27T20:07:22.703Z"
      },
      {
        "duration": 13,
        "start_time": "2022-08-27T20:07:47.058Z"
      },
      {
        "duration": 15,
        "start_time": "2022-08-27T20:08:14.318Z"
      },
      {
        "duration": 16,
        "start_time": "2022-08-27T20:08:18.636Z"
      },
      {
        "duration": 16,
        "start_time": "2022-08-27T20:08:22.484Z"
      },
      {
        "duration": 100,
        "start_time": "2022-08-27T20:09:01.944Z"
      },
      {
        "duration": 89,
        "start_time": "2022-08-27T20:10:18.345Z"
      },
      {
        "duration": 12,
        "start_time": "2022-08-27T20:10:27.430Z"
      },
      {
        "duration": 4,
        "start_time": "2022-08-27T20:11:22.198Z"
      },
      {
        "duration": 30,
        "start_time": "2022-08-27T20:11:24.189Z"
      },
      {
        "duration": 15,
        "start_time": "2022-08-27T20:11:24.340Z"
      },
      {
        "duration": 15,
        "start_time": "2022-08-27T20:11:24.513Z"
      },
      {
        "duration": 3,
        "start_time": "2022-08-27T20:11:25.175Z"
      },
      {
        "duration": 8,
        "start_time": "2022-08-27T20:11:25.513Z"
      },
      {
        "duration": 6,
        "start_time": "2022-08-27T20:11:25.687Z"
      },
      {
        "duration": 12,
        "start_time": "2022-08-27T20:11:25.863Z"
      },
      {
        "duration": 87,
        "start_time": "2022-08-27T20:11:27.058Z"
      },
      {
        "duration": 182,
        "start_time": "2022-08-27T20:11:27.231Z"
      },
      {
        "duration": 25,
        "start_time": "2022-08-27T20:11:39.500Z"
      },
      {
        "duration": 28,
        "start_time": "2022-08-27T20:12:06.575Z"
      },
      {
        "duration": 23,
        "start_time": "2022-08-27T20:12:22.298Z"
      },
      {
        "duration": 4,
        "start_time": "2022-08-27T20:13:45.949Z"
      },
      {
        "duration": 5,
        "start_time": "2022-08-27T20:13:49.308Z"
      },
      {
        "duration": 66,
        "start_time": "2022-08-27T20:13:52.082Z"
      },
      {
        "duration": 13,
        "start_time": "2022-08-27T20:13:59.257Z"
      },
      {
        "duration": 15,
        "start_time": "2022-08-27T20:14:25.292Z"
      },
      {
        "duration": 14,
        "start_time": "2022-08-27T20:14:29.348Z"
      },
      {
        "duration": 61,
        "start_time": "2022-08-27T20:15:44.227Z"
      },
      {
        "duration": 29,
        "start_time": "2022-08-27T20:16:00.222Z"
      },
      {
        "duration": 22,
        "start_time": "2022-08-27T20:16:42.553Z"
      },
      {
        "duration": 23,
        "start_time": "2022-08-27T20:17:12.070Z"
      },
      {
        "duration": 24,
        "start_time": "2022-08-27T20:17:42.435Z"
      },
      {
        "duration": 156,
        "start_time": "2022-08-27T20:17:57.938Z"
      },
      {
        "duration": 23,
        "start_time": "2022-08-27T20:18:02.749Z"
      },
      {
        "duration": 24,
        "start_time": "2022-08-27T20:18:15.094Z"
      },
      {
        "duration": 4,
        "start_time": "2022-08-27T20:19:54.020Z"
      },
      {
        "duration": 5706,
        "start_time": "2022-08-27T20:19:58.592Z"
      },
      {
        "duration": 32,
        "start_time": "2022-08-27T20:21:37.479Z"
      },
      {
        "duration": 37,
        "start_time": "2022-08-27T20:21:51.012Z"
      },
      {
        "duration": 4,
        "start_time": "2022-08-27T20:24:56.922Z"
      },
      {
        "duration": 32,
        "start_time": "2022-08-27T20:24:57.268Z"
      },
      {
        "duration": 15,
        "start_time": "2022-08-27T20:24:57.432Z"
      },
      {
        "duration": 15,
        "start_time": "2022-08-27T20:24:57.592Z"
      },
      {
        "duration": 4,
        "start_time": "2022-08-27T20:24:58.695Z"
      },
      {
        "duration": 6,
        "start_time": "2022-08-27T20:24:59.434Z"
      },
      {
        "duration": 6,
        "start_time": "2022-08-27T20:24:59.633Z"
      },
      {
        "duration": 12,
        "start_time": "2022-08-27T20:24:59.826Z"
      },
      {
        "duration": 173,
        "start_time": "2022-08-27T20:25:01.499Z"
      },
      {
        "duration": 27,
        "start_time": "2022-08-27T20:25:02.629Z"
      },
      {
        "duration": 650,
        "start_time": "2022-08-27T20:30:32.696Z"
      },
      {
        "duration": 174,
        "start_time": "2022-08-27T20:35:19.427Z"
      },
      {
        "duration": 133,
        "start_time": "2022-08-27T20:35:23.141Z"
      },
      {
        "duration": 20,
        "start_time": "2022-08-27T20:35:30.485Z"
      },
      {
        "duration": 39,
        "start_time": "2022-08-27T20:36:35.056Z"
      },
      {
        "duration": 37,
        "start_time": "2022-08-27T20:40:41.445Z"
      },
      {
        "duration": 663,
        "start_time": "2022-08-27T20:43:44.292Z"
      },
      {
        "duration": 1401,
        "start_time": "2022-08-27T20:44:05.031Z"
      },
      {
        "duration": 853,
        "start_time": "2022-08-27T20:44:13.597Z"
      },
      {
        "duration": 903,
        "start_time": "2022-08-27T20:45:09.907Z"
      },
      {
        "duration": 189,
        "start_time": "2022-08-27T20:45:21.423Z"
      },
      {
        "duration": 27,
        "start_time": "2022-08-27T20:45:21.700Z"
      },
      {
        "duration": 846,
        "start_time": "2022-08-27T20:45:34.409Z"
      },
      {
        "duration": 1013,
        "start_time": "2022-08-27T20:47:35.738Z"
      },
      {
        "duration": 15334,
        "start_time": "2022-08-27T20:53:27.698Z"
      },
      {
        "duration": 14741,
        "start_time": "2022-08-27T20:54:22.469Z"
      },
      {
        "duration": 15751,
        "start_time": "2022-08-27T20:58:13.955Z"
      },
      {
        "duration": 78,
        "start_time": "2022-08-27T20:58:45.894Z"
      },
      {
        "duration": 16131,
        "start_time": "2022-08-27T20:58:59.333Z"
      },
      {
        "duration": 16153,
        "start_time": "2022-08-27T21:00:06.477Z"
      },
      {
        "duration": 15310,
        "start_time": "2022-08-27T21:00:23.995Z"
      },
      {
        "duration": 28,
        "start_time": "2022-08-27T21:02:22.136Z"
      },
      {
        "duration": 130,
        "start_time": "2022-08-27T21:02:36.206Z"
      },
      {
        "duration": 15211,
        "start_time": "2022-08-27T21:03:13.297Z"
      },
      {
        "duration": 14829,
        "start_time": "2022-08-27T21:05:53.038Z"
      },
      {
        "duration": 14127,
        "start_time": "2022-08-27T21:06:20.696Z"
      },
      {
        "duration": 15006,
        "start_time": "2022-08-27T21:07:06.385Z"
      },
      {
        "duration": 28,
        "start_time": "2022-08-27T21:07:25.082Z"
      },
      {
        "duration": 35,
        "start_time": "2022-08-27T21:08:01.506Z"
      },
      {
        "duration": 28,
        "start_time": "2022-08-27T21:08:27.311Z"
      },
      {
        "duration": 30,
        "start_time": "2022-08-27T21:09:25.673Z"
      },
      {
        "duration": 36,
        "start_time": "2022-08-27T21:09:29.258Z"
      },
      {
        "duration": 14832,
        "start_time": "2022-08-27T21:09:47.553Z"
      },
      {
        "duration": 28,
        "start_time": "2022-08-27T21:10:02.387Z"
      },
      {
        "duration": 25,
        "start_time": "2022-08-27T21:11:19.895Z"
      },
      {
        "duration": 36,
        "start_time": "2022-08-27T21:13:46.078Z"
      },
      {
        "duration": 36,
        "start_time": "2022-08-27T21:13:55.260Z"
      },
      {
        "duration": 41,
        "start_time": "2022-08-27T21:14:00.025Z"
      },
      {
        "duration": 14440,
        "start_time": "2022-08-27T21:25:33.995Z"
      },
      {
        "duration": 30,
        "start_time": "2022-08-27T21:25:48.437Z"
      },
      {
        "duration": 28,
        "start_time": "2022-08-27T21:26:33.080Z"
      },
      {
        "duration": 25,
        "start_time": "2022-08-27T21:26:58.109Z"
      },
      {
        "duration": 3,
        "start_time": "2022-08-27T21:30:09.819Z"
      },
      {
        "duration": 29,
        "start_time": "2022-08-27T21:30:10.756Z"
      },
      {
        "duration": 11,
        "start_time": "2022-08-27T21:30:11.056Z"
      },
      {
        "duration": 12,
        "start_time": "2022-08-27T21:30:11.525Z"
      },
      {
        "duration": 4,
        "start_time": "2022-08-27T21:30:16.067Z"
      },
      {
        "duration": 7,
        "start_time": "2022-08-27T21:32:33.688Z"
      },
      {
        "duration": 5,
        "start_time": "2022-08-27T21:32:41.695Z"
      },
      {
        "duration": 5,
        "start_time": "2022-08-27T21:32:50.628Z"
      },
      {
        "duration": 5,
        "start_time": "2022-08-27T21:33:03.808Z"
      },
      {
        "duration": 7,
        "start_time": "2022-08-27T21:33:21.332Z"
      },
      {
        "duration": 7,
        "start_time": "2022-08-27T21:33:27.658Z"
      },
      {
        "duration": 7,
        "start_time": "2022-08-27T21:33:59.305Z"
      },
      {
        "duration": 6,
        "start_time": "2022-08-27T21:34:05.867Z"
      },
      {
        "duration": 6,
        "start_time": "2022-08-27T21:34:09.302Z"
      },
      {
        "duration": 10,
        "start_time": "2022-08-27T21:35:14.742Z"
      },
      {
        "duration": 4,
        "start_time": "2022-08-27T21:35:15.982Z"
      },
      {
        "duration": 6,
        "start_time": "2022-08-27T21:35:16.266Z"
      },
      {
        "duration": 6,
        "start_time": "2022-08-27T21:35:17.621Z"
      },
      {
        "duration": 6,
        "start_time": "2022-08-27T21:35:20.917Z"
      },
      {
        "duration": 4,
        "start_time": "2022-08-27T21:35:26.822Z"
      },
      {
        "duration": 533,
        "start_time": "2022-08-27T21:35:43.888Z"
      },
      {
        "duration": 13,
        "start_time": "2022-08-27T21:35:47.534Z"
      },
      {
        "duration": 5,
        "start_time": "2022-08-27T21:35:55.228Z"
      },
      {
        "duration": 14,
        "start_time": "2022-08-27T21:36:27.622Z"
      },
      {
        "duration": 4,
        "start_time": "2022-08-27T21:36:38.843Z"
      },
      {
        "duration": 28,
        "start_time": "2022-08-27T21:36:39.672Z"
      },
      {
        "duration": 10,
        "start_time": "2022-08-27T21:36:40.073Z"
      },
      {
        "duration": 11,
        "start_time": "2022-08-27T21:36:40.541Z"
      },
      {
        "duration": 5,
        "start_time": "2022-08-27T21:36:42.409Z"
      },
      {
        "duration": 5,
        "start_time": "2022-08-27T21:36:42.868Z"
      },
      {
        "duration": 5,
        "start_time": "2022-08-27T21:36:59.809Z"
      },
      {
        "duration": 5,
        "start_time": "2022-08-27T21:37:09.321Z"
      },
      {
        "duration": 6,
        "start_time": "2022-08-27T21:37:24.343Z"
      },
      {
        "duration": 6,
        "start_time": "2022-08-27T21:37:24.807Z"
      },
      {
        "duration": 11,
        "start_time": "2022-08-27T21:37:25.259Z"
      },
      {
        "duration": 172,
        "start_time": "2022-08-27T21:37:27.219Z"
      },
      {
        "duration": 34,
        "start_time": "2022-08-27T21:37:28.051Z"
      },
      {
        "duration": 14529,
        "start_time": "2022-08-27T21:37:47.261Z"
      },
      {
        "duration": 26,
        "start_time": "2022-08-27T21:38:01.792Z"
      },
      {
        "duration": 53,
        "start_time": "2022-08-27T21:38:01.819Z"
      },
      {
        "duration": 1143,
        "start_time": "2022-08-28T20:43:47.848Z"
      },
      {
        "duration": 164,
        "start_time": "2022-08-28T20:43:49.473Z"
      },
      {
        "duration": 28,
        "start_time": "2022-08-28T20:43:49.857Z"
      },
      {
        "duration": 12,
        "start_time": "2022-08-28T20:43:50.224Z"
      },
      {
        "duration": 4,
        "start_time": "2022-08-28T20:43:51.552Z"
      },
      {
        "duration": 7,
        "start_time": "2022-08-28T20:43:51.865Z"
      },
      {
        "duration": 10,
        "start_time": "2022-08-28T20:43:53.228Z"
      },
      {
        "duration": 8,
        "start_time": "2022-08-28T20:43:53.692Z"
      },
      {
        "duration": 220,
        "start_time": "2022-08-28T20:44:35.375Z"
      },
      {
        "duration": 34,
        "start_time": "2022-08-28T20:44:42.769Z"
      },
      {
        "duration": 10,
        "start_time": "2022-08-28T20:44:42.969Z"
      },
      {
        "duration": 10,
        "start_time": "2022-08-28T20:44:43.305Z"
      },
      {
        "duration": 4,
        "start_time": "2022-08-28T20:44:45.824Z"
      },
      {
        "duration": 4,
        "start_time": "2022-08-28T20:44:46.148Z"
      },
      {
        "duration": 6,
        "start_time": "2022-08-28T20:44:47.289Z"
      },
      {
        "duration": 9,
        "start_time": "2022-08-28T20:44:47.983Z"
      },
      {
        "duration": 9,
        "start_time": "2022-08-28T20:44:48.618Z"
      },
      {
        "duration": 179,
        "start_time": "2022-08-28T20:45:03.941Z"
      },
      {
        "duration": 417,
        "start_time": "2022-08-28T20:45:05.259Z"
      },
      {
        "duration": 13425,
        "start_time": "2022-08-28T20:45:36.814Z"
      },
      {
        "duration": 24,
        "start_time": "2022-08-28T20:45:50.241Z"
      },
      {
        "duration": 32,
        "start_time": "2022-08-28T20:46:04.027Z"
      },
      {
        "duration": 23,
        "start_time": "2022-08-28T20:46:38.475Z"
      },
      {
        "duration": 50,
        "start_time": "2022-08-28T20:47:04.245Z"
      },
      {
        "duration": 10,
        "start_time": "2022-08-28T20:48:38.363Z"
      },
      {
        "duration": 11,
        "start_time": "2022-08-28T20:49:32.116Z"
      },
      {
        "duration": 62,
        "start_time": "2022-08-28T21:09:29.420Z"
      },
      {
        "duration": 69,
        "start_time": "2022-08-28T21:10:20.874Z"
      },
      {
        "duration": 80,
        "start_time": "2022-08-28T21:10:26.254Z"
      },
      {
        "duration": 10,
        "start_time": "2022-08-28T21:12:41.738Z"
      },
      {
        "duration": 41,
        "start_time": "2022-08-28T21:12:51.677Z"
      },
      {
        "duration": 3,
        "start_time": "2022-08-28T21:12:57.932Z"
      },
      {
        "duration": 28,
        "start_time": "2022-08-28T21:12:59.546Z"
      },
      {
        "duration": 10,
        "start_time": "2022-08-28T21:12:59.749Z"
      },
      {
        "duration": 11,
        "start_time": "2022-08-28T21:12:59.923Z"
      },
      {
        "duration": 4,
        "start_time": "2022-08-28T21:13:00.647Z"
      },
      {
        "duration": 4,
        "start_time": "2022-08-28T21:13:00.823Z"
      },
      {
        "duration": 6,
        "start_time": "2022-08-28T21:13:01.403Z"
      },
      {
        "duration": 6,
        "start_time": "2022-08-28T21:13:04.239Z"
      },
      {
        "duration": 9,
        "start_time": "2022-08-28T21:13:08.272Z"
      },
      {
        "duration": 176,
        "start_time": "2022-08-28T21:13:09.863Z"
      },
      {
        "duration": 26,
        "start_time": "2022-08-28T21:13:10.042Z"
      },
      {
        "duration": 13122,
        "start_time": "2022-08-28T21:13:13.847Z"
      },
      {
        "duration": 26,
        "start_time": "2022-08-28T21:13:26.971Z"
      },
      {
        "duration": 34,
        "start_time": "2022-08-28T21:13:26.999Z"
      },
      {
        "duration": 10,
        "start_time": "2022-08-28T21:13:27.036Z"
      },
      {
        "duration": 48,
        "start_time": "2022-08-28T21:14:41.678Z"
      },
      {
        "duration": 4,
        "start_time": "2022-08-28T21:15:18.714Z"
      },
      {
        "duration": 12,
        "start_time": "2022-08-28T21:15:51.493Z"
      },
      {
        "duration": 6,
        "start_time": "2022-08-28T21:16:26.605Z"
      },
      {
        "duration": 7,
        "start_time": "2022-08-28T21:16:48.272Z"
      },
      {
        "duration": 7,
        "start_time": "2022-08-28T21:20:39.872Z"
      },
      {
        "duration": 6,
        "start_time": "2022-08-28T21:20:46.675Z"
      },
      {
        "duration": 8,
        "start_time": "2022-08-28T21:20:57.225Z"
      },
      {
        "duration": 8,
        "start_time": "2022-08-28T21:21:00.193Z"
      },
      {
        "duration": 8,
        "start_time": "2022-08-28T21:21:04.427Z"
      },
      {
        "duration": 8,
        "start_time": "2022-08-28T21:21:08.069Z"
      },
      {
        "duration": 8,
        "start_time": "2022-08-28T21:21:11.083Z"
      },
      {
        "duration": 8,
        "start_time": "2022-08-28T21:21:15.931Z"
      },
      {
        "duration": 7,
        "start_time": "2022-08-28T21:21:20.441Z"
      },
      {
        "duration": 13,
        "start_time": "2022-08-28T21:22:42.532Z"
      },
      {
        "duration": 17,
        "start_time": "2022-08-28T21:22:59.089Z"
      },
      {
        "duration": 5,
        "start_time": "2022-08-28T21:23:05.125Z"
      },
      {
        "duration": 6,
        "start_time": "2022-08-28T21:23:29.779Z"
      },
      {
        "duration": 10,
        "start_time": "2022-08-28T21:26:05.347Z"
      },
      {
        "duration": 15,
        "start_time": "2022-08-28T21:26:44.093Z"
      },
      {
        "duration": 16,
        "start_time": "2022-08-28T21:28:08.283Z"
      },
      {
        "duration": 15,
        "start_time": "2022-08-28T21:28:53.980Z"
      },
      {
        "duration": 18,
        "start_time": "2022-08-28T21:29:06.300Z"
      },
      {
        "duration": 16,
        "start_time": "2022-08-28T21:29:51.298Z"
      },
      {
        "duration": 16,
        "start_time": "2022-08-28T21:29:55.106Z"
      },
      {
        "duration": 5,
        "start_time": "2022-08-28T21:30:06.853Z"
      },
      {
        "duration": 6,
        "start_time": "2022-08-28T21:30:52.011Z"
      },
      {
        "duration": 16,
        "start_time": "2022-08-28T21:30:56.158Z"
      },
      {
        "duration": 15,
        "start_time": "2022-08-28T21:31:09.739Z"
      },
      {
        "duration": 16,
        "start_time": "2022-08-28T21:31:16.068Z"
      },
      {
        "duration": 6,
        "start_time": "2022-08-28T21:32:25.193Z"
      },
      {
        "duration": 7,
        "start_time": "2022-08-28T21:32:51.718Z"
      },
      {
        "duration": 6,
        "start_time": "2022-08-28T21:33:51.298Z"
      },
      {
        "duration": 7,
        "start_time": "2022-08-28T21:33:58.132Z"
      },
      {
        "duration": 6,
        "start_time": "2022-08-28T21:34:03.525Z"
      },
      {
        "duration": 4,
        "start_time": "2022-08-28T21:34:21.916Z"
      },
      {
        "duration": 1076,
        "start_time": "2022-08-28T21:42:41.492Z"
      },
      {
        "duration": 30,
        "start_time": "2022-08-28T21:42:42.570Z"
      },
      {
        "duration": 17,
        "start_time": "2022-08-28T21:42:42.602Z"
      },
      {
        "duration": 19,
        "start_time": "2022-08-28T21:42:42.621Z"
      },
      {
        "duration": 15,
        "start_time": "2022-08-28T21:42:42.641Z"
      },
      {
        "duration": 24,
        "start_time": "2022-08-28T21:42:42.658Z"
      },
      {
        "duration": 21,
        "start_time": "2022-08-28T21:42:42.684Z"
      },
      {
        "duration": 25,
        "start_time": "2022-08-28T21:42:42.706Z"
      },
      {
        "duration": 21,
        "start_time": "2022-08-28T21:42:42.732Z"
      },
      {
        "duration": 162,
        "start_time": "2022-08-28T21:42:42.755Z"
      },
      {
        "duration": 398,
        "start_time": "2022-08-28T21:42:42.919Z"
      },
      {
        "duration": 13305,
        "start_time": "2022-08-28T21:42:43.319Z"
      },
      {
        "duration": 27,
        "start_time": "2022-08-28T21:42:56.625Z"
      },
      {
        "duration": 47,
        "start_time": "2022-08-28T21:42:56.654Z"
      },
      {
        "duration": 10,
        "start_time": "2022-08-28T21:42:56.702Z"
      },
      {
        "duration": 4,
        "start_time": "2022-08-28T21:42:56.714Z"
      },
      {
        "duration": 7,
        "start_time": "2022-08-28T21:45:07.363Z"
      }
    ],
    "colab": {
      "collapsed_sections": [],
      "toc_visible": true,
      "provenance": []
    },
    "kernelspec": {
      "display_name": "Python 3 (ipykernel)",
      "language": "python",
      "name": "python3"
    },
    "language_info": {
      "codemirror_mode": {
        "name": "ipython",
        "version": 3
      },
      "file_extension": ".py",
      "mimetype": "text/x-python",
      "name": "python",
      "nbconvert_exporter": "python",
      "pygments_lexer": "ipython3",
      "version": "3.9.5"
    },
    "toc": {
      "base_numbering": 1,
      "nav_menu": {
        "height": "243px",
        "width": "532px"
      },
      "number_sections": true,
      "sideBar": true,
      "skip_h1_title": true,
      "title_cell": "Table of Contents",
      "title_sidebar": "Contents",
      "toc_cell": false,
      "toc_position": {},
      "toc_section_display": true,
      "toc_window_display": false
    }
  },
  "nbformat": 4,
  "nbformat_minor": 0
}